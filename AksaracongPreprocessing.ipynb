{
 "cells": [
  {
   "cell_type": "code",
   "execution_count": 1,
   "metadata": {},
   "outputs": [],
   "source": [
    "import os\n",
    "from collections import defaultdict\n",
    "from sklearn.model_selection import train_test_split\n",
    "\n",
    "# Path dasar\n",
    "base_path_aksaracong = r'D:\\Proyek Aksara 2'\n",
    "dataset_paths_aksaracong = {\n",
    "    'aksara_rencong': os.path.join(base_path_aksaracong, 'rencong'),\n",
    "}\n",
    "\n",
    "# Subfolder yang relevan\n",
    "relevant_subfolders_aksaracong = {\n",
    "    'aksara_rencong': ['a', 'ba', 'ca', 'da', 'ga', 'gha', 'ha', 'ja', 'ka', 'la', 'ma', 'na', 'nga', 'nya',\n",
    "                       'pa', 'ra', 'sa', 'ta', 'wa', 'ya']\n",
    "}\n",
    "\n",
    "# Fungsi untuk memuat path citra dan labelnya\n",
    "def load_image_paths_labels(base_path_aksaracong, relevant_subfolders):\n",
    "    image_paths_labels = []\n",
    "    for label, folder_path in base_path_aksaracong.items():\n",
    "        for subfolder in relevant_subfolders[label]:\n",
    "            subfolder_path = os.path.join(folder_path, subfolder)\n",
    "            if os.path.exists(subfolder_path):\n",
    "                for filename in os.listdir(subfolder_path):\n",
    "                    if filename.lower().endswith(('.png', '.jpg', '.jpeg', '.bmp', '.gif')):\n",
    "                        image_path = os.path.join(subfolder_path, filename)\n",
    "                        image_paths_labels.append((image_path, subfolder))\n",
    "    return image_paths_labels\n",
    "\n",
    "# Muat data\n",
    "image_paths_labels = load_image_paths_labels(dataset_paths_aksaracong, relevant_subfolders_aksaracong)\n",
    "\n",
    "# Pisahkan path dan label\n",
    "image_paths, labels = zip(*image_paths_labels)\n",
    "\n",
    "# Label numeric\n",
    "label_map = {label: idx for idx, label in enumerate(relevant_subfolders_aksaracong['aksara_rencong'])}\n",
    "numeric_labels = [label_map[label] for label in labels]\n",
    "\n",
    "# Pisahkan data menjadi train dan test (70:30)\n",
    "train_paths, test_paths, train_labels, test_labels = train_test_split(\n",
    "    image_paths, numeric_labels, test_size=0.3, stratify=numeric_labels, random_state=42\n",
    ")\n"
   ]
  },
  {
   "cell_type": "code",
   "execution_count": 2,
   "metadata": {},
   "outputs": [],
   "source": [
    "import shutil\n",
    "\n",
    "# Utility function to split data\n",
    "def split_data(base_path_aksaracong, output_base_path_aksaracong, split_ratio=0.7):\n",
    "    for label, folder_path in base_path_aksaracong.items():\n",
    "        for subfolder in relevant_subfolders_aksaracong[label]:\n",
    "            subfolder_path = os.path.join(folder_path, subfolder)\n",
    "            if os.path.isdir(subfolder_path):\n",
    "                files = [f for f in os.listdir(subfolder_path) if f.lower().endswith(('.png', '.jpg', '.jpeg', '.bmp', '.gif'))]\n",
    "                train_files, test_files = train_test_split(files, test_size=1-split_ratio, random_state=42)\n",
    "\n",
    "                # Create train and test directories\n",
    "                train_output_dir = os.path.join(output_base_path_aksaracong, 'train', subfolder)\n",
    "                test_output_dir = os.path.join(output_base_path_aksaracong, 'test', subfolder)\n",
    "                os.makedirs(train_output_dir, exist_ok=True)\n",
    "                os.makedirs(test_output_dir, exist_ok=True)\n",
    "\n",
    "                for file in train_files:\n",
    "                    shutil.copy(os.path.join(subfolder_path, file), os.path.join(train_output_dir, file))\n",
    "                for file in test_files:\n",
    "                    shutil.copy(os.path.join(subfolder_path, file), os.path.join(test_output_dir, file))\n",
    "\n",
    "# Apply the split\n",
    "output_base_path_aksaracong = r'D:\\Proyek Aksara 2\\Datasets_split_aksaracong'\n",
    "split_data(dataset_paths_aksaracong, output_base_path_aksaracong)\n"
   ]
  },
  {
   "cell_type": "code",
   "execution_count": 3,
   "metadata": {},
   "outputs": [
    {
     "name": "stdout",
     "output_type": "stream",
     "text": [
      "Kelas yang ada dalam dataset:\n",
      "1. a\n",
      "2. ba\n",
      "3. ca\n",
      "4. da\n",
      "5. ga\n",
      "6. gha\n",
      "7. ha\n",
      "8. ja\n",
      "9. ka\n",
      "10. la\n",
      "11. ma\n",
      "12. na\n",
      "13. nga\n",
      "14. nya\n",
      "15. pa\n",
      "16. ra\n",
      "17. sa\n",
      "18. ta\n",
      "19. wa\n",
      "20. ya\n"
     ]
    }
   ],
   "source": [
    "import os\n",
    "\n",
    "# Path dataset split\n",
    "output_base_path_aksaracong = r'D:\\Proyek Aksara 2\\Datasets_split_aksaracong'\n",
    "train_dir = os.path.join(output_base_path_aksaracong, 'train')\n",
    "\n",
    "# Ambil list nama subfolder di dalam direktori train (ini akan menjadi nama kelas/label)\n",
    "classes = sorted(os.listdir(train_dir))\n",
    "\n",
    "# Tampilkan kelas\n",
    "print(\"Kelas yang ada dalam dataset:\")\n",
    "for idx, cls in enumerate(classes):\n",
    "    print(f\"{idx + 1}. {cls}\")\n"
   ]
  }
 ],
 "metadata": {
  "kernelspec": {
   "display_name": "base",
   "language": "python",
   "name": "python3"
  },
  "language_info": {
   "codemirror_mode": {
    "name": "ipython",
    "version": 3
   },
   "file_extension": ".py",
   "mimetype": "text/x-python",
   "name": "python",
   "nbconvert_exporter": "python",
   "pygments_lexer": "ipython3",
   "version": "3.12.3"
  }
 },
 "nbformat": 4,
 "nbformat_minor": 2
}
